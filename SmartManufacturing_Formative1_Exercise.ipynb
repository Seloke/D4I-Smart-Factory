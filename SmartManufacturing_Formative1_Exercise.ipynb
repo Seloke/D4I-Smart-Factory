{
 "cells": [
  {
   "cell_type": "markdown",
   "metadata": {},
   "source": [
    "# Smart Manufacturing"
   ]
  },
  {
   "cell_type": "markdown",
   "metadata": {},
   "source": [
    "![Screenshot](images/throughput_time.JPG) "
   ]
  },
  {
   "cell_type": "markdown",
   "metadata": {},
   "source": [
    "Scenario: We have been given data from a spare parts manufacturing plant that uses Fabricating Machines, and skilled Operators to produce spare parts. These are small parts and they are produced in the 100's. The manufacturing plant wants to produce as many parts as possible quickly.\n",
    "\n",
    "**Data:** We have given given 1 day's manufacturing data. There are 2 Machines (M1 and M2) and 5 human operators (O1...O5) and on this day 3 parts (P1, P2 and P3) were produced.\n",
    "\n",
    "Both M1 and M2 have different rates of production, when they are running. However, they both require some set-up time, as well as `change over` time when switching between different parts. \n",
    "\n",
    "__Stoppages__ Throughout the day, these machines get stopped for various reasons. These NPT (non-productive times) are due to the following reasons:\n",
    "1. Alarms (machine parts overheating, high vibrations)\n",
    "2. Operator stops (humans stopping the machines, for taking a break, replacing raw etc.)\n",
    "3. Change over (when switching from one Part to manufacturing another)\n",
    "\n",
    "\n",
    "\n",
    "**Goal for this lesson**: Compare the throughputs of the different machines, compare part manufacturing difficulty and operator efficiencies, by looking at the data\n"
   ]
  },
  {
   "cell_type": "markdown",
   "metadata": {},
   "source": [
    "![Screenshot](images/CumulativeFlow.png) "
   ]
  },
  {
   "cell_type": "markdown",
   "metadata": {},
   "source": [
    "### Preparatory Tasks\n",
    "\n",
    "1. Read the input file\n",
    "2. Format the data into a proper time series (with datetime) Timestamps and floats for the sensor values\n",
    "3. Plot the number of parts produced with time as the x-axis (flat areas are stoppage times)"
   ]
  },
  {
   "cell_type": "markdown",
   "metadata": {
    "slideshow": {
     "slide_type": "fragment"
    }
   },
   "source": [
    "## Questions to be answered\n",
    "\n",
    "- Q1: How does Machine M1 compare against M2 in terms of its production capacity?\n",
    "- Q2: How do the 3 parts (P1, P2, P3) compare in terms of production complexity, based on this one day's data?\n",
    "- Q3: How do the 5 operators compare, in terms of their individual production rates?\n",
    "- Q4: What is the actual `realized` production rate, when taking into account all the stoppages?"
   ]
  },
  {
   "cell_type": "code",
   "execution_count": 1,
   "metadata": {
    "slideshow": {
     "slide_type": "slide"
    }
   },
   "outputs": [],
   "source": [
    "import numpy as np\n",
    "import pandas as pd\n",
    "import matplotlib.pyplot as plt\n",
    "import seaborn as sns\n",
    "import os"
   ]
  },
  {
   "cell_type": "code",
   "execution_count": 2,
   "metadata": {},
   "outputs": [],
   "source": [
    "%matplotlib inline"
   ]
  }
 ],
 "metadata": {
  "kernelspec": {
   "display_name": "Python 3",
   "language": "python",
   "name": "python3"
  },
  "language_info": {
   "codemirror_mode": {
    "name": "ipython",
    "version": 3
   },
   "file_extension": ".py",
   "mimetype": "text/x-python",
   "name": "python",
   "nbconvert_exporter": "python",
   "pygments_lexer": "ipython3",
   "version": "3.6.5"
  }
 },
 "nbformat": 4,
 "nbformat_minor": 2
}
